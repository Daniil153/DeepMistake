{
  "nbformat": 4,
  "nbformat_minor": 0,
  "metadata": {
    "colab": {
      "name": "Eval_3",
      "provenance": [],
      "collapsed_sections": [],
      "toc_visible": true
    },
    "kernelspec": {
      "display_name": "Python 3",
      "name": "python3"
    },
    "widgets": {
      "application/vnd.jupyter.widget-state+json": {
        "d926c708e52843a3a46e2f8a2c6fb764": {
          "model_module": "@jupyter-widgets/controls",
          "model_name": "HBoxModel",
          "state": {
            "_view_name": "HBoxView",
            "_dom_classes": [],
            "_model_name": "HBoxModel",
            "_view_module": "@jupyter-widgets/controls",
            "_model_module_version": "1.5.0",
            "_view_count": null,
            "_view_module_version": "1.5.0",
            "box_style": "",
            "layout": "IPY_MODEL_8ac488b9f31c49f6808394ff33257d93",
            "_model_module": "@jupyter-widgets/controls",
            "children": [
              "IPY_MODEL_b52f242b6aa94696a554ad7c5980e990",
              "IPY_MODEL_159ff6e2ff6444579718ef753c90e374"
            ]
          }
        },
        "8ac488b9f31c49f6808394ff33257d93": {
          "model_module": "@jupyter-widgets/base",
          "model_name": "LayoutModel",
          "state": {
            "_view_name": "LayoutView",
            "grid_template_rows": null,
            "right": null,
            "justify_content": null,
            "_view_module": "@jupyter-widgets/base",
            "overflow": null,
            "_model_module_version": "1.2.0",
            "_view_count": null,
            "flex_flow": null,
            "width": null,
            "min_width": null,
            "border": null,
            "align_items": null,
            "bottom": null,
            "_model_module": "@jupyter-widgets/base",
            "top": null,
            "grid_column": null,
            "overflow_y": null,
            "overflow_x": null,
            "grid_auto_flow": null,
            "grid_area": null,
            "grid_template_columns": null,
            "flex": null,
            "_model_name": "LayoutModel",
            "justify_items": null,
            "grid_row": null,
            "max_height": null,
            "align_content": null,
            "visibility": null,
            "align_self": null,
            "height": null,
            "min_height": null,
            "padding": null,
            "grid_auto_rows": null,
            "grid_gap": null,
            "max_width": null,
            "order": null,
            "_view_module_version": "1.2.0",
            "grid_template_areas": null,
            "object_position": null,
            "object_fit": null,
            "grid_auto_columns": null,
            "margin": null,
            "display": null,
            "left": null
          }
        },
        "b52f242b6aa94696a554ad7c5980e990": {
          "model_module": "@jupyter-widgets/controls",
          "model_name": "FloatProgressModel",
          "state": {
            "_view_name": "ProgressView",
            "style": "IPY_MODEL_7a2ce68b527b45db8efadcb26230c987",
            "_dom_classes": [],
            "description": "100%",
            "_model_name": "FloatProgressModel",
            "bar_style": "success",
            "max": 6569778,
            "_view_module": "@jupyter-widgets/controls",
            "_model_module_version": "1.5.0",
            "value": 6569778,
            "_view_count": null,
            "_view_module_version": "1.5.0",
            "orientation": "horizontal",
            "min": 0,
            "description_tooltip": null,
            "_model_module": "@jupyter-widgets/controls",
            "layout": "IPY_MODEL_9a6fb4e1f7f943bd9745969bdfb95c88"
          }
        },
        "159ff6e2ff6444579718ef753c90e374": {
          "model_module": "@jupyter-widgets/controls",
          "model_name": "HTMLModel",
          "state": {
            "_view_name": "HTMLView",
            "style": "IPY_MODEL_3aeab0321de84a20a228fe9dae37c380",
            "_dom_classes": [],
            "description": "",
            "_model_name": "HTMLModel",
            "placeholder": "​",
            "_view_module": "@jupyter-widgets/controls",
            "_model_module_version": "1.5.0",
            "value": " 6569778/6569778 [45:02&lt;00:00, 2430.67it/s]",
            "_view_count": null,
            "_view_module_version": "1.5.0",
            "description_tooltip": null,
            "_model_module": "@jupyter-widgets/controls",
            "layout": "IPY_MODEL_1c7d0e28586d4c1982e6db5052610274"
          }
        },
        "7a2ce68b527b45db8efadcb26230c987": {
          "model_module": "@jupyter-widgets/controls",
          "model_name": "ProgressStyleModel",
          "state": {
            "_view_name": "StyleView",
            "_model_name": "ProgressStyleModel",
            "description_width": "initial",
            "_view_module": "@jupyter-widgets/base",
            "_model_module_version": "1.5.0",
            "_view_count": null,
            "_view_module_version": "1.2.0",
            "bar_color": null,
            "_model_module": "@jupyter-widgets/controls"
          }
        },
        "9a6fb4e1f7f943bd9745969bdfb95c88": {
          "model_module": "@jupyter-widgets/base",
          "model_name": "LayoutModel",
          "state": {
            "_view_name": "LayoutView",
            "grid_template_rows": null,
            "right": null,
            "justify_content": null,
            "_view_module": "@jupyter-widgets/base",
            "overflow": null,
            "_model_module_version": "1.2.0",
            "_view_count": null,
            "flex_flow": null,
            "width": null,
            "min_width": null,
            "border": null,
            "align_items": null,
            "bottom": null,
            "_model_module": "@jupyter-widgets/base",
            "top": null,
            "grid_column": null,
            "overflow_y": null,
            "overflow_x": null,
            "grid_auto_flow": null,
            "grid_area": null,
            "grid_template_columns": null,
            "flex": null,
            "_model_name": "LayoutModel",
            "justify_items": null,
            "grid_row": null,
            "max_height": null,
            "align_content": null,
            "visibility": null,
            "align_self": null,
            "height": null,
            "min_height": null,
            "padding": null,
            "grid_auto_rows": null,
            "grid_gap": null,
            "max_width": null,
            "order": null,
            "_view_module_version": "1.2.0",
            "grid_template_areas": null,
            "object_position": null,
            "object_fit": null,
            "grid_auto_columns": null,
            "margin": null,
            "display": null,
            "left": null
          }
        },
        "3aeab0321de84a20a228fe9dae37c380": {
          "model_module": "@jupyter-widgets/controls",
          "model_name": "DescriptionStyleModel",
          "state": {
            "_view_name": "StyleView",
            "_model_name": "DescriptionStyleModel",
            "description_width": "",
            "_view_module": "@jupyter-widgets/base",
            "_model_module_version": "1.5.0",
            "_view_count": null,
            "_view_module_version": "1.2.0",
            "_model_module": "@jupyter-widgets/controls"
          }
        },
        "1c7d0e28586d4c1982e6db5052610274": {
          "model_module": "@jupyter-widgets/base",
          "model_name": "LayoutModel",
          "state": {
            "_view_name": "LayoutView",
            "grid_template_rows": null,
            "right": null,
            "justify_content": null,
            "_view_module": "@jupyter-widgets/base",
            "overflow": null,
            "_model_module_version": "1.2.0",
            "_view_count": null,
            "flex_flow": null,
            "width": null,
            "min_width": null,
            "border": null,
            "align_items": null,
            "bottom": null,
            "_model_module": "@jupyter-widgets/base",
            "top": null,
            "grid_column": null,
            "overflow_y": null,
            "overflow_x": null,
            "grid_auto_flow": null,
            "grid_area": null,
            "grid_template_columns": null,
            "flex": null,
            "_model_name": "LayoutModel",
            "justify_items": null,
            "grid_row": null,
            "max_height": null,
            "align_content": null,
            "visibility": null,
            "align_self": null,
            "height": null,
            "min_height": null,
            "padding": null,
            "grid_auto_rows": null,
            "grid_gap": null,
            "max_width": null,
            "order": null,
            "_view_module_version": "1.2.0",
            "grid_template_areas": null,
            "object_position": null,
            "object_fit": null,
            "grid_auto_columns": null,
            "margin": null,
            "display": null,
            "left": null
          }
        }
      }
    }
  },
  "cells": [
    {
      "cell_type": "markdown",
      "metadata": {
        "id": "34-DdY_bALZT"
      },
      "source": [
        "# Install dependencies"
      ]
    },
    {
      "cell_type": "code",
      "metadata": {
        "colab": {
          "base_uri": "https://localhost:8080/"
        },
        "id": "q-q8FbbrpXdu",
        "outputId": "23953dee-8f18-4146-9f76-7b722370774a"
      },
      "source": [
        "!bash install_dependencies.sh"
      ],
      "execution_count": 1,
      "outputs": [
        {
          "output_type": "stream",
          "text": [
            "  Running command git clone -q https://github.com/Koziev/rutokenizer /tmp/pip-req-build-q0dh01ln\n",
            "  Running command git clone -q https://github.com/Koziev/rupostagger /tmp/pip-req-build-em5lbhk8\n",
            "  Running command git clone -q https://github.com/Koziev/rusyllab /tmp/pip-req-build-iwybms4n\n",
            "Cloning into 'ruword2tags'...\n",
            "remote: Enumerating objects: 35, done.\u001b[K\n",
            "remote: Counting objects: 100% (35/35), done.\u001b[K\n",
            "remote: Compressing objects: 100% (27/27), done.\u001b[K\n",
            "remote: Total 230 (delta 15), reused 27 (delta 8), pack-reused 195\u001b[K\n",
            "Receiving objects: 100% (230/230), 1.20 GiB | 35.69 MiB/s, done.\n",
            "Resolving deltas: 100% (114/114), done.\n",
            "Downloading...\n",
            "From: https://drive.google.com/uc?id=1xlL8ijnwE6tAPpsil7Q1yWkXY4mn2YCd\n",
            "To: /content/ruword2tags.db\n",
            "185MB [00:04, 41.3MB/s]\n",
            "zip_safe flag not set; analyzing archive contents...\n",
            "ruword2tags.__pycache__.ruflexer.cpython-37: module references __file__\n",
            "ruword2tags.__pycache__.ruword2tags.cpython-37: module references __file__\n",
            "  Running command git clone -q https://github.com/Koziev/rulemma /tmp/pip-req-build-eatb6bac\n"
          ],
          "name": "stdout"
        }
      ]
    },
    {
      "cell_type": "markdown",
      "metadata": {
        "id": "NMHeYHnYAN1c"
      },
      "source": [
        "# Import useful functions"
      ]
    },
    {
      "cell_type": "code",
      "metadata": {
        "id": "-dOuPnYtpfGE"
      },
      "source": [
        "from vocative import vocative_lemmatizer, save_lemmatized_datasets\r\n",
        "from form_tsv_dataset import get_sentence_index_tsv_dataset"
      ],
      "execution_count": 2,
      "outputs": []
    },
    {
      "cell_type": "markdown",
      "metadata": {
        "id": "EqixdaX1Ab9O"
      },
      "source": [
        "# Load useful data via google disk\r\n",
        "\r\n",
        "https://drive.google.com/drive/u/1/folders/1aU4yr-keMxCN6mGag59jhB4F20RkVf83"
      ]
    },
    {
      "cell_type": "code",
      "metadata": {
        "colab": {
          "base_uri": "https://localhost:8080/"
        },
        "id": "z3xq3Bxhpgr1",
        "outputId": "1d90e04d-1304-46ed-e3ac-2f73f34484b5"
      },
      "source": [
        "try:\r\n",
        "    import google.colab\r\n",
        "    IN_COLAB = True\r\n",
        "except ImportError:\r\n",
        "    IN_COLAB = False\r\n",
        "\r\n",
        "from pathlib import Path\r\n",
        "if IN_COLAB:\r\n",
        "    google.colab.drive.mount(\"/content/drive\")\r\n",
        "     \r\n",
        "    AUX_DATA_ROOT = Path(\"/content/drive/My Drive/Lemmatized_datasets\")\r\n",
        "    \r\n",
        "    assert AUX_DATA_ROOT.is_dir(), \"Have you forgot to 'Add a shortcut to Drive'?\"\r\n",
        "    \r\n",
        "    import sys\r\n",
        "    sys.path.insert(0, str(AUX_DATA_ROOT))\r\n",
        "else:\r\n",
        "    AUX_DATA_ROOT = Path(\".\")"
      ],
      "execution_count": 3,
      "outputs": [
        {
          "output_type": "stream",
          "text": [
            "Mounted at /content/drive\n"
          ],
          "name": "stdout"
        }
      ]
    },
    {
      "cell_type": "markdown",
      "metadata": {
        "id": "nvwdoucPAe03"
      },
      "source": [
        "## Path to original НКРЯ dataset and to dataset, which was lemmatized by Vocative."
      ]
    },
    {
      "cell_type": "code",
      "metadata": {
        "id": "9au3XZl7qJqn"
      },
      "source": [
        "lemma_time1 = '/content/drive/MyDrive/Lemmatized_datasets/vocative_dataset/lemmatized_rnc_pre-soviet.txt'\r\n",
        "time1_path = '/content/drive/MyDrive/Lemmatized_datasets/rnc_pre-soviet.txt'\r\n",
        "\r\n",
        "lemma_time2 = '/content/drive/MyDrive/Lemmatized_datasets/vocative_dataset/lemmatized_rnc_soviet.txt'\r\n",
        "time2_path = '/content/drive/MyDrive/Lemmatized_datasets/rnc_soviet.txt'\r\n",
        "\r\n",
        "lemma_time3 = '/content/drive/MyDrive/Lemmatized_datasets/vocative_dataset/lemmatized_rnc_post-soviet.txt'\r\n",
        "time3_path = '/content/drive/MyDrive/Lemmatized_datasets/rnc_post-soviet.txt'"
      ],
      "execution_count": 4,
      "outputs": []
    },
    {
      "cell_type": "markdown",
      "metadata": {
        "id": "Ql4eE2tNA_zC"
      },
      "source": [
        "## Also, paths to result folder"
      ]
    },
    {
      "cell_type": "code",
      "metadata": {
        "id": "Ezukz-UAqMO_"
      },
      "source": [
        "path_for_result_folder = '/content/drive/MyDrive/Lemmatized_datasets/RuSemShift_instances/RuSemShift_2_3_tsv'\r\n",
        "words_path = '/content/RuSemShift/rusemshift_2/raw_annotations.tsv'"
      ],
      "execution_count": 5,
      "outputs": []
    },
    {
      "cell_type": "markdown",
      "metadata": {
        "id": "_4_MhqvLO6Ig"
      },
      "source": [
        "## You need to form list of target words as an input"
      ]
    },
    {
      "cell_type": "markdown",
      "metadata": {
        "id": "Piv67RwuPIfB"
      },
      "source": [
        "* you can use already implemented function"
      ]
    },
    {
      "cell_type": "code",
      "metadata": {
        "id": "YcUSF36vO_lu"
      },
      "source": [
        "from utils import extract_target_words_as_df"
      ],
      "execution_count": 9,
      "outputs": []
    },
    {
      "cell_type": "code",
      "metadata": {
        "id": "mkOZ1khZPOVC"
      },
      "source": [
        "target_words = extract_target_words_as_df(words_path)[1:]"
      ],
      "execution_count": 10,
      "outputs": []
    },
    {
      "cell_type": "markdown",
      "metadata": {
        "id": "5_4RVLzCAumR"
      },
      "source": [
        "* If you do not have lemmatized versions of dataset or you want to use another lemmatizer:"
      ]
    },
    {
      "cell_type": "code",
      "metadata": {
        "id": "3TXsz6UOCtw1"
      },
      "source": [
        "lemmatized_dataset_path = 'test/'\r\n",
        "save_lemmatized_datasets(\r\n",
        "    lemmatized_dataset_path,\r\n",
        "    vocative_lemmatizer,\r\n",
        "    time1_path,\r\n",
        "    time2_path,\r\n",
        "    time3_path\r\n",
        ")"
      ],
      "execution_count": null,
      "outputs": []
    },
    {
      "cell_type": "markdown",
      "metadata": {
        "id": "ApZ7UeKYCr2d"
      },
      "source": [
        "* But if you have lemmatized ones:"
      ]
    },
    {
      "cell_type": "code",
      "metadata": {
        "colab": {
          "base_uri": "https://localhost:8080/",
          "height": 66,
          "referenced_widgets": [
            "d926c708e52843a3a46e2f8a2c6fb764",
            "8ac488b9f31c49f6808394ff33257d93",
            "b52f242b6aa94696a554ad7c5980e990",
            "159ff6e2ff6444579718ef753c90e374",
            "7a2ce68b527b45db8efadcb26230c987",
            "9a6fb4e1f7f943bd9745969bdfb95c88",
            "3aeab0321de84a20a228fe9dae37c380",
            "1c7d0e28586d4c1982e6db5052610274"
          ]
        },
        "id": "--3FpYUvqO-9",
        "outputId": "cfba877b-e42e-468c-e88e-63ad42a1d97f"
      },
      "source": [
        "get_sentence_index_tsv_dataset(\n",
        "    time3_path,\n",
        "    lemma_time3,\n",
        "    path_for_result_folder,\n",
        "    target_words\n",
        ")"
      ],
      "execution_count": 8,
      "outputs": [
        {
          "output_type": "display_data",
          "data": {
            "application/vnd.jupyter.widget-view+json": {
              "model_id": "d926c708e52843a3a46e2f8a2c6fb764",
              "version_minor": 0,
              "version_major": 2
            },
            "text/plain": [
              "HBox(children=(FloatProgress(value=0.0, max=6569778.0), HTML(value='')))"
            ]
          },
          "metadata": {
            "tags": []
          }
        },
        {
          "output_type": "stream",
          "text": [
            "\n"
          ],
          "name": "stdout"
        }
      ]
    },
    {
      "cell_type": "code",
      "metadata": {
        "id": "vHKZfKt_qUC8"
      },
      "source": [],
      "execution_count": null,
      "outputs": []
    }
  ]
}